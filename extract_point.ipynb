{
 "cells": [
  {
   "cell_type": "markdown",
   "metadata": {
    "ExecuteTime": {
     "end_time": "2019-05-05T08:13:39.770147Z",
     "start_time": "2019-05-05T08:13:39.599633Z"
    }
   },
   "source": [
    "This is for verify"
   ]
  },
  {
   "cell_type": "code",
   "execution_count": null,
   "metadata": {
    "ExecuteTime": {
     "end_time": "2019-05-09T06:15:39.129337Z",
     "start_time": "2019-05-09T06:15:34.098560Z"
    }
   },
   "outputs": [],
   "source": [
    "import cv2\n",
    "import numpy as np\n",
    " \n",
    "img = cv2.imread(\"#1_HISI_00424s(260C)_dia.png\")\n",
    "for x_coordinate in [97, 125, 152, 179, 206, 234, 261, 288, 315, 343, 370, 397, 424, 452, 479, 506, 533, 561, 588, 615, 642, 670, 697, 724, 751, 779, 806]:\n",
    "    indices= list(np.where((img[: , x_coordinate ,0] > 145) & (img[: , x_coordinate, 1] < 50) & (img[: , x_coordinate, 2] < 50))) \n",
    "    \n",
    "    try:\n",
    "        print(x_coordinate)\n",
    "#         print(indices[0][0])\n",
    "#     if indices[0] [0]!= []:\n",
    "#         print(x_coordinate)\n",
    "#         print(indices[0][0])\n",
    "\n",
    "        img[:, x_coordinate,1] = 0\n",
    "        img[:, x_coordinate,0] = 0\n",
    "        img[:, x_coordinate,2] = 0\n",
    "    except:\n",
    "        print(x_coordinate,'could not find the point')\n",
    "\n",
    "cv2.imshow(\"check\",img)\n",
    "cv2.waitKey(0)\n",
    "cv2.destroyAllWindows()\n",
    "\n",
    "# for i in coordinates:\n",
    "#     print(i)\n"
   ]
  },
  {
   "cell_type": "code",
   "execution_count": 50,
   "metadata": {
    "ExecuteTime": {
     "end_time": "2019-05-09T06:17:43.542466Z",
     "start_time": "2019-05-09T06:16:15.250587Z"
    }
   },
   "outputs": [
    {
     "name": "stdout",
     "output_type": "stream",
     "text": [
      "ooooops! x= 97 could not find the red warpage, please find the warpage by yourself.\n",
      "144\n",
      "ooooops! x= 97 could not find the blue warpage, please find the warpage by yourself.\n",
      "158\n",
      "ooooops! x= 397 could not find the blue warpage, please find the warpage by yourself.\n",
      "277\n",
      "ooooops! x= 452 could not find the blue warpage, please find the warpage by yourself.\n",
      "281\n",
      "ooooops! x= 479 could not find the blue warpage, please find the warpage by yourself.\n",
      "280\n"
     ]
    },
    {
     "data": {
      "image/png": "[encoded data removed]",
      "text/plain": [
       "<Figure size 432x288 with 1 Axes>"
      ]
     },
     "metadata": {
      "needs_background": "light"
     },
     "output_type": "display_data"
    }
   ],
   "source": [
    "import cv2\n",
    "import numpy as np\n",
    "import csv\n",
    "from matplotlib import pyplot as plt \n",
    "# img = cv2.imread(\"./picture.jpg\")\n",
    "\n",
    "# cv2.imshow(\"test\",img)\n",
    "# cv2.waitKey(0)\n",
    "# cv2.destroyAllWindows()\n",
    "\n",
    "\n",
    "pixel_miny = 415\n",
    "pixel_maxy = 56\n",
    "\n",
    "min_y = -70\n",
    "max_y = 70\n",
    "\n",
    "    \n",
    "\n",
    "# x = min_x+(gpixel_x-pixel_minx)*(max_x-min_x)/(pixel_maxx-pixel_minx)\n",
    "# y = min_y+(gpixel_y-pixel_miny)*(max_y-min_y)/(pixel_maxy-pixel_miny)\n",
    "\n",
    "list_warpage_red = [] \n",
    "list_warpage_blue = []\n",
    "img = cv2.imread(\"#1_HISI_00424s(260C)_dia.png\")\n",
    "\n",
    "# the x_coordinate possibly need to find by yourself \n",
    "list_xcoordinate = [97, 125, 152, 179, 206, 234, 261, 288, 315, 343, 370, 397, 424, 452, 479, 506, 533, 561, 588, 615, 642, 670, 697, 724, 751, 779, 806]\n",
    "for x_coordinate in list_xcoordinate:\n",
    "###########  this is for red warpage ##################\n",
    "    y_coordinate = list(np.where((img[: , x_coordinate ,0] < 40) & (img[: , x_coordinate, 1] < 40) & (img[: , x_coordinate, 2] > 150)))\n",
    "    try:\n",
    "        gpixel_y = y_coordinate[0][0]\n",
    "        if gpixel_y < 460:\n",
    "            warpage = min_y+(gpixel_y-pixel_miny)*(max_y-min_y)/(pixel_maxy-pixel_miny)\n",
    "            list_warpage_red.append(warpage)\n",
    "        else:\n",
    "            print(\"ooooops! x=\",x_coordinate,\"could not find the red warpage, please find the warpage by yourself.\")\n",
    "            gpixel_y = int(input())\n",
    "            warpage = min_y+(gpixel_y-pixel_miny)*(max_y-min_y)/(pixel_maxy-pixel_miny)\n",
    "            list_warpage_red.append(warpage)\n",
    "        \n",
    "    except:\n",
    "        print(\"ooooops! x=\",x_coordinate,\"could not find the red warpage, please find the warpage by yourself.\")\n",
    "        gpixel_y = int(input())\n",
    "        warpage = min_y+(gpixel_y-pixel_miny)*(max_y-min_y)/(pixel_maxy-pixel_miny)\n",
    "        list_warpage_red.append(warpage)\n",
    "    \n",
    "############# this is for blue warpage ###############\n",
    "    y_coordinate = list(np.where((img[: , x_coordinate ,0] > 150) & (img[: , x_coordinate, 1] < 40) & (img[: , x_coordinate, 2] < 40)))\n",
    "    try:\n",
    "        gpixel_y = y_coordinate[0][0]\n",
    "        if gpixel_y < 460:\n",
    "            warpage = min_y+(gpixel_y-pixel_miny)*(max_y-min_y)/(pixel_maxy-pixel_miny)\n",
    "            list_warpage_blue.append(warpage)\n",
    "        else:\n",
    "            print(\"ooooops! x=\",x_coordinate,\"could not find the blue warpage, please find the warpage by yourself.\")\n",
    "            gpixel_y = int(input())\n",
    "            warpage = min_y+(gpixel_y-pixel_miny)*(max_y-min_y)/(pixel_maxy-pixel_miny)\n",
    "            list_warpage_blue.append(warpage)\n",
    "    except:\n",
    "        print(\"ooooops! x=\",x_coordinate,\"could not find the blue warpage, please find the warpage by yourself.\")\n",
    "        gpixel_y = int(input())\n",
    "        warpage = min_y+(gpixel_y-pixel_miny)*(max_y-min_y)/(pixel_maxy-pixel_miny)\n",
    "        list_warpage_blue.append(warpage)\n",
    "        \n",
    "        \n",
    "with open('result_260.csv', 'w', newline='') as csvfile:\n",
    "    writer = csv.writer(csvfile)\n",
    "    writer.writerow(list_xcoordinate)\n",
    "    writer.writerow(list_warpage_red)\n",
    "    writer.writerow(list_warpage_blue)        \n",
    "\n",
    "plt.plot(list_xcoordinate, list_warpage_red, 'o-', c='red')\n",
    "plt.plot(list_xcoordinate, list_warpage_blue, 'o-', c='blue')\n",
    "plt.show()        \n",
    "        \n",
    "# print(list_warpage_red)    \n",
    "# print(list_warpage_blue)        "
   ]
  },
  {
   "cell_type": "code",
   "execution_count": 51,
   "metadata": {
    "ExecuteTime": {
     "end_time": "2019-05-09T06:17:51.005493Z",
     "start_time": "2019-05-09T06:17:50.917168Z"
    }
   },
   "outputs": [],
   "source": [
    "import pandas as pd \n",
    "# data = pd.read_csv(\"./result_240.csv\")\n",
    "\n",
    "list_result = [pd.read_csv(\"result_\"+str(i)+\".csv\") for i in [260, 240, 220, 200, 183, 150, 100, 30]]\n",
    "result = pd.concat(list_result)\n",
    "result = result.reset_index(drop=True)\n",
    "result.columns = [i for i in range(0, 54, 2)]\n",
    "result.to_csv(\"result_final.csv\", index=False)"
   ]
  },
  {
   "cell_type": "code",
   "execution_count": null,
   "metadata": {},
   "outputs": [],
   "source": []
  }
 ],
 "metadata": {
  "kernelspec": {
   "display_name": "Python 3",
   "language": "python",
   "name": "python3"
  },
  "language_info": {
   "codemirror_mode": {
    "name": "ipython",
    "version": 3
   },
   "file_extension": ".py",
   "mimetype": "text/x-python",
   "name": "python",
   "nbconvert_exporter": "python",
   "pygments_lexer": "ipython3",
   "version": "3.6.6"
  },
  "varInspector": {
   "cols": {
    "lenName": 16,
    "lenType": 16,
    "lenVar": 40
   },
   "kernels_config": {
    "python": {
     "delete_cmd_postfix": "",
     "delete_cmd_prefix": "del ",
     "library": "var_list.py",
     "varRefreshCmd": "print(var_dic_list())"
    },
    "r": {
     "delete_cmd_postfix": ") ",
     "delete_cmd_prefix": "rm(",
     "library": "var_list.r",
     "varRefreshCmd": "cat(var_dic_list()) "
    }
   },
   "types_to_exclude": [
    "module",
    "function",
    "builtin_function_or_method",
    "instance",
    "_Feature"
   ],
   "window_display": false
  }
 },
 "nbformat": 4,
 "nbformat_minor": 2
}
